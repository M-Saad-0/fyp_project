{
 "cells": [
  {
   "cell_type": "code",
   "execution_count": 1,
   "metadata": {
    "_cell_guid": "b1076dfc-b9ad-4769-8c92-a6c4dae69d19",
    "_uuid": "8f2839f25d086af736a60e9eeb907d3b93b6e0e5",
    "execution": {
     "iopub.execute_input": "2025-02-17T08:17:05.264590Z",
     "iopub.status.busy": "2025-02-17T08:17:05.264177Z",
     "iopub.status.idle": "2025-02-17T08:17:05.693638Z",
     "shell.execute_reply": "2025-02-17T08:17:05.692548Z",
     "shell.execute_reply.started": "2025-02-17T08:17:05.264532Z"
    },
    "trusted": true
   },
   "outputs": [
    {
     "name": "stdout",
     "output_type": "stream",
     "text": [
      "/kaggle/input/diets.csv\n",
      "/kaggle/input/medications.csv\n",
      "/kaggle/input/Symptom-severity.csv\n",
      "/kaggle/input/workout_df.csv\n",
      "/kaggle/input/precautions_df.csv\n",
      "/kaggle/input/Training.csv\n",
      "/kaggle/input/description.csv\n",
      "/kaggle/input/symtoms_df.csv\n"
     ]
    }
   ],
   "source": [
    "# This Python 3 environment comes with many helpful analytics libraries installed\n",
    "# It is defined by the kaggle/python Docker image: https://github.com/kaggle/docker-python\n",
    "# For example, here's several helpful packages to load\n",
    "\n",
    "import numpy as np # linear algebra\n",
    "import pandas as pd # data processing, CSV file I/O (e.g. pd.read_csv)\n",
    "\n",
    "# Input data files are available in the read-only \"../input/\" directory\n",
    "# For example, running this (by clicking run or pressing Shift+Enter) will list all files under the input directory\n",
    "\n",
    "import os\n",
    "for dirname, _, filenames in os.walk('/kaggle/input'):\n",
    "    for filename in filenames:\n",
    "        print(os.path.join(dirname, filename))\n",
    "\n",
    "# You can write up to 20GB to the current directory (/kaggle/working/) that gets preserved as output when you create a version using \"Save & Run All\" \n",
    "# You can also write temporary files to /kaggle/temp/, but they won't be saved outside of the current session"
   ]
  },
  {
   "cell_type": "code",
   "execution_count": 4,
   "metadata": {
    "execution": {
     "iopub.execute_input": "2025-02-17T08:21:49.206121Z",
     "iopub.status.busy": "2025-02-17T08:21:49.205685Z",
     "iopub.status.idle": "2025-02-17T08:21:49.211192Z",
     "shell.execute_reply": "2025-02-17T08:21:49.210043Z",
     "shell.execute_reply.started": "2025-02-17T08:21:49.206085Z"
    },
    "trusted": true
   },
   "outputs": [],
   "source": [
    "import  pandas as pd\n",
    "from sklearn.metrics import confusion_matrix\n"
   ]
  },
  {
   "cell_type": "markdown",
   "metadata": {},
   "source": [
    "******Checking the report of Data******\n",
    "\n",
    "Using the ydataprofilling Technique it gives the report of data in HTML format to check whether the data having missing values, Imbalacing of data or some corellation of data...\n"
   ]
  },
  {
   "cell_type": "code",
   "execution_count": null,
   "metadata": {
    "execution": {
     "iopub.execute_input": "2025-02-17T08:21:50.329586Z",
     "iopub.status.busy": "2025-02-17T08:21:50.329088Z",
     "iopub.status.idle": "2025-02-17T08:22:55.961881Z",
     "shell.execute_reply": "2025-02-17T08:22:55.960565Z",
     "shell.execute_reply.started": "2025-02-17T08:21:50.329539Z"
    },
    "trusted": true
   },
   "outputs": [],
   "source": [
    "dataset = pd.read_csv('/kaggle/input/Training.csv')\n",
    "!pip install numba==0.56.4\n",
    "!pip install -U ydata-profiling visions numba\n",
    "!pip uninstall ydata-profiling visions numba -y\n",
    "!pip install ydata-profiling\n",
    "!pip show ydata-profiling visions numba"
   ]
  },
  {
   "cell_type": "markdown",
   "metadata": {},
   "source": [
    "This code Snippet gives the report"
   ]
  },
  {
   "cell_type": "code",
   "execution_count": null,
   "metadata": {
    "execution": {
     "iopub.execute_input": "2025-02-17T08:22:55.965270Z",
     "iopub.status.busy": "2025-02-17T08:22:55.964811Z",
     "iopub.status.idle": "2025-02-17T08:25:08.697963Z",
     "shell.execute_reply": "2025-02-17T08:25:08.696995Z",
     "shell.execute_reply.started": "2025-02-17T08:22:55.965220Z"
    },
    "trusted": true
   },
   "outputs": [],
   "source": [
    "from ydata_profiling import ProfileReport\n",
    "profile = ProfileReport(dataset , title=\"Profiling Report\")\n",
    "profile.to_file(\"profiling_report.html\")"
   ]
  },
  {
   "cell_type": "markdown",
   "metadata": {},
   "source": [
    "Labeling of Target and Splitting of data"
   ]
  },
  {
   "cell_type": "code",
   "execution_count": 8,
   "metadata": {
    "execution": {
     "iopub.execute_input": "2025-02-17T08:27:06.704441Z",
     "iopub.status.busy": "2025-02-17T08:27:06.704040Z",
     "iopub.status.idle": "2025-02-17T08:27:06.718851Z",
     "shell.execute_reply": "2025-02-17T08:27:06.718030Z",
     "shell.execute_reply.started": "2025-02-17T08:27:06.704407Z"
    },
    "trusted": true
   },
   "outputs": [],
   "source": [
    "\n",
    "X=dataset.drop(labels=['prognosis'], axis=1)\n",
    "y=dataset['prognosis']\n",
    "# separate dataset into train and test\n",
    "from sklearn.preprocessing import LabelEncoder\n",
    "le = LabelEncoder()\n",
    "le.fit(y)\n",
    "Y = le.transform(y)\n",
    "from sklearn.model_selection import train_test_split\n",
    "X_train, X_test, y_train, y_test = train_test_split(\n",
    "    dataset.drop(labels=['prognosis'], axis=1),\n",
    "    dataset['prognosis'],\n",
    "    test_size=0.3,\n",
    "    random_state=0)"
   ]
  },
  {
   "cell_type": "code",
   "execution_count": 18,
   "metadata": {
    "execution": {
     "iopub.execute_input": "2025-02-16T10:04:51.590349Z",
     "iopub.status.busy": "2025-02-16T10:04:51.589849Z",
     "iopub.status.idle": "2025-02-16T10:04:51.612525Z",
     "shell.execute_reply": "2025-02-16T10:04:51.611416Z",
     "shell.execute_reply.started": "2025-02-16T10:04:51.590310Z"
    },
    "trusted": true
   },
   "outputs": [
    {
     "data": {
      "text/html": [
       "<div>\n",
       "<style scoped>\n",
       "    .dataframe tbody tr th:only-of-type {\n",
       "        vertical-align: middle;\n",
       "    }\n",
       "\n",
       "    .dataframe tbody tr th {\n",
       "        vertical-align: top;\n",
       "    }\n",
       "\n",
       "    .dataframe thead th {\n",
       "        text-align: right;\n",
       "    }\n",
       "</style>\n",
       "<table border=\"1\" class=\"dataframe\">\n",
       "  <thead>\n",
       "    <tr style=\"text-align: right;\">\n",
       "      <th></th>\n",
       "      <th>itching</th>\n",
       "      <th>skin_rash</th>\n",
       "      <th>nodal_skin_eruptions</th>\n",
       "      <th>continuous_sneezing</th>\n",
       "      <th>shivering</th>\n",
       "      <th>chills</th>\n",
       "      <th>joint_pain</th>\n",
       "      <th>stomach_pain</th>\n",
       "      <th>acidity</th>\n",
       "      <th>ulcers_on_tongue</th>\n",
       "      <th>...</th>\n",
       "      <th>pus_filled_pimples</th>\n",
       "      <th>blackheads</th>\n",
       "      <th>scurring</th>\n",
       "      <th>skin_peeling</th>\n",
       "      <th>silver_like_dusting</th>\n",
       "      <th>small_dents_in_nails</th>\n",
       "      <th>inflammatory_nails</th>\n",
       "      <th>blister</th>\n",
       "      <th>red_sore_around_nose</th>\n",
       "      <th>yellow_crust_ooze</th>\n",
       "    </tr>\n",
       "  </thead>\n",
       "  <tbody>\n",
       "    <tr>\n",
       "      <th>3972</th>\n",
       "      <td>0</td>\n",
       "      <td>0</td>\n",
       "      <td>0</td>\n",
       "      <td>0</td>\n",
       "      <td>0</td>\n",
       "      <td>0</td>\n",
       "      <td>0</td>\n",
       "      <td>0</td>\n",
       "      <td>0</td>\n",
       "      <td>0</td>\n",
       "      <td>...</td>\n",
       "      <td>0</td>\n",
       "      <td>0</td>\n",
       "      <td>0</td>\n",
       "      <td>0</td>\n",
       "      <td>0</td>\n",
       "      <td>0</td>\n",
       "      <td>0</td>\n",
       "      <td>0</td>\n",
       "      <td>0</td>\n",
       "      <td>0</td>\n",
       "    </tr>\n",
       "    <tr>\n",
       "      <th>1990</th>\n",
       "      <td>0</td>\n",
       "      <td>0</td>\n",
       "      <td>0</td>\n",
       "      <td>0</td>\n",
       "      <td>0</td>\n",
       "      <td>0</td>\n",
       "      <td>0</td>\n",
       "      <td>0</td>\n",
       "      <td>0</td>\n",
       "      <td>0</td>\n",
       "      <td>...</td>\n",
       "      <td>0</td>\n",
       "      <td>0</td>\n",
       "      <td>0</td>\n",
       "      <td>0</td>\n",
       "      <td>0</td>\n",
       "      <td>0</td>\n",
       "      <td>0</td>\n",
       "      <td>0</td>\n",
       "      <td>0</td>\n",
       "      <td>0</td>\n",
       "    </tr>\n",
       "    <tr>\n",
       "      <th>607</th>\n",
       "      <td>0</td>\n",
       "      <td>0</td>\n",
       "      <td>0</td>\n",
       "      <td>0</td>\n",
       "      <td>0</td>\n",
       "      <td>0</td>\n",
       "      <td>1</td>\n",
       "      <td>0</td>\n",
       "      <td>0</td>\n",
       "      <td>0</td>\n",
       "      <td>...</td>\n",
       "      <td>0</td>\n",
       "      <td>0</td>\n",
       "      <td>0</td>\n",
       "      <td>0</td>\n",
       "      <td>0</td>\n",
       "      <td>0</td>\n",
       "      <td>0</td>\n",
       "      <td>0</td>\n",
       "      <td>0</td>\n",
       "      <td>0</td>\n",
       "    </tr>\n",
       "    <tr>\n",
       "      <th>296</th>\n",
       "      <td>0</td>\n",
       "      <td>0</td>\n",
       "      <td>0</td>\n",
       "      <td>0</td>\n",
       "      <td>0</td>\n",
       "      <td>0</td>\n",
       "      <td>0</td>\n",
       "      <td>0</td>\n",
       "      <td>0</td>\n",
       "      <td>0</td>\n",
       "      <td>...</td>\n",
       "      <td>0</td>\n",
       "      <td>0</td>\n",
       "      <td>0</td>\n",
       "      <td>0</td>\n",
       "      <td>0</td>\n",
       "      <td>0</td>\n",
       "      <td>0</td>\n",
       "      <td>0</td>\n",
       "      <td>0</td>\n",
       "      <td>0</td>\n",
       "    </tr>\n",
       "    <tr>\n",
       "      <th>587</th>\n",
       "      <td>0</td>\n",
       "      <td>1</td>\n",
       "      <td>0</td>\n",
       "      <td>0</td>\n",
       "      <td>0</td>\n",
       "      <td>1</td>\n",
       "      <td>1</td>\n",
       "      <td>0</td>\n",
       "      <td>0</td>\n",
       "      <td>0</td>\n",
       "      <td>...</td>\n",
       "      <td>0</td>\n",
       "      <td>0</td>\n",
       "      <td>0</td>\n",
       "      <td>0</td>\n",
       "      <td>0</td>\n",
       "      <td>0</td>\n",
       "      <td>0</td>\n",
       "      <td>0</td>\n",
       "      <td>0</td>\n",
       "      <td>0</td>\n",
       "    </tr>\n",
       "    <tr>\n",
       "      <th>...</th>\n",
       "      <td>...</td>\n",
       "      <td>...</td>\n",
       "      <td>...</td>\n",
       "      <td>...</td>\n",
       "      <td>...</td>\n",
       "      <td>...</td>\n",
       "      <td>...</td>\n",
       "      <td>...</td>\n",
       "      <td>...</td>\n",
       "      <td>...</td>\n",
       "      <td>...</td>\n",
       "      <td>...</td>\n",
       "      <td>...</td>\n",
       "      <td>...</td>\n",
       "      <td>...</td>\n",
       "      <td>...</td>\n",
       "      <td>...</td>\n",
       "      <td>...</td>\n",
       "      <td>...</td>\n",
       "      <td>...</td>\n",
       "      <td>...</td>\n",
       "    </tr>\n",
       "    <tr>\n",
       "      <th>4859</th>\n",
       "      <td>0</td>\n",
       "      <td>0</td>\n",
       "      <td>0</td>\n",
       "      <td>0</td>\n",
       "      <td>0</td>\n",
       "      <td>0</td>\n",
       "      <td>0</td>\n",
       "      <td>0</td>\n",
       "      <td>0</td>\n",
       "      <td>0</td>\n",
       "      <td>...</td>\n",
       "      <td>0</td>\n",
       "      <td>0</td>\n",
       "      <td>0</td>\n",
       "      <td>0</td>\n",
       "      <td>0</td>\n",
       "      <td>0</td>\n",
       "      <td>0</td>\n",
       "      <td>0</td>\n",
       "      <td>0</td>\n",
       "      <td>0</td>\n",
       "    </tr>\n",
       "    <tr>\n",
       "      <th>3264</th>\n",
       "      <td>0</td>\n",
       "      <td>0</td>\n",
       "      <td>0</td>\n",
       "      <td>0</td>\n",
       "      <td>0</td>\n",
       "      <td>1</td>\n",
       "      <td>0</td>\n",
       "      <td>0</td>\n",
       "      <td>0</td>\n",
       "      <td>0</td>\n",
       "      <td>...</td>\n",
       "      <td>0</td>\n",
       "      <td>0</td>\n",
       "      <td>0</td>\n",
       "      <td>0</td>\n",
       "      <td>0</td>\n",
       "      <td>0</td>\n",
       "      <td>0</td>\n",
       "      <td>0</td>\n",
       "      <td>0</td>\n",
       "      <td>0</td>\n",
       "    </tr>\n",
       "    <tr>\n",
       "      <th>1653</th>\n",
       "      <td>0</td>\n",
       "      <td>0</td>\n",
       "      <td>0</td>\n",
       "      <td>1</td>\n",
       "      <td>1</td>\n",
       "      <td>0</td>\n",
       "      <td>0</td>\n",
       "      <td>0</td>\n",
       "      <td>0</td>\n",
       "      <td>0</td>\n",
       "      <td>...</td>\n",
       "      <td>0</td>\n",
       "      <td>0</td>\n",
       "      <td>0</td>\n",
       "      <td>0</td>\n",
       "      <td>0</td>\n",
       "      <td>0</td>\n",
       "      <td>0</td>\n",
       "      <td>0</td>\n",
       "      <td>0</td>\n",
       "      <td>0</td>\n",
       "    </tr>\n",
       "    <tr>\n",
       "      <th>2607</th>\n",
       "      <td>0</td>\n",
       "      <td>0</td>\n",
       "      <td>0</td>\n",
       "      <td>0</td>\n",
       "      <td>0</td>\n",
       "      <td>0</td>\n",
       "      <td>0</td>\n",
       "      <td>0</td>\n",
       "      <td>0</td>\n",
       "      <td>0</td>\n",
       "      <td>...</td>\n",
       "      <td>0</td>\n",
       "      <td>0</td>\n",
       "      <td>0</td>\n",
       "      <td>0</td>\n",
       "      <td>0</td>\n",
       "      <td>0</td>\n",
       "      <td>0</td>\n",
       "      <td>0</td>\n",
       "      <td>0</td>\n",
       "      <td>0</td>\n",
       "    </tr>\n",
       "    <tr>\n",
       "      <th>2732</th>\n",
       "      <td>0</td>\n",
       "      <td>0</td>\n",
       "      <td>0</td>\n",
       "      <td>1</td>\n",
       "      <td>0</td>\n",
       "      <td>1</td>\n",
       "      <td>0</td>\n",
       "      <td>0</td>\n",
       "      <td>0</td>\n",
       "      <td>0</td>\n",
       "      <td>...</td>\n",
       "      <td>0</td>\n",
       "      <td>0</td>\n",
       "      <td>0</td>\n",
       "      <td>0</td>\n",
       "      <td>0</td>\n",
       "      <td>0</td>\n",
       "      <td>0</td>\n",
       "      <td>0</td>\n",
       "      <td>0</td>\n",
       "      <td>0</td>\n",
       "    </tr>\n",
       "  </tbody>\n",
       "</table>\n",
       "<p>3444 rows × 132 columns</p>\n",
       "</div>"
      ],
      "text/plain": [
       "      itching  skin_rash  nodal_skin_eruptions  continuous_sneezing  \\\n",
       "3972        0          0                     0                    0   \n",
       "1990        0          0                     0                    0   \n",
       "607         0          0                     0                    0   \n",
       "296         0          0                     0                    0   \n",
       "587         0          1                     0                    0   \n",
       "...       ...        ...                   ...                  ...   \n",
       "4859        0          0                     0                    0   \n",
       "3264        0          0                     0                    0   \n",
       "1653        0          0                     0                    1   \n",
       "2607        0          0                     0                    0   \n",
       "2732        0          0                     0                    1   \n",
       "\n",
       "      shivering  chills  joint_pain  stomach_pain  acidity  ulcers_on_tongue  \\\n",
       "3972          0       0           0             0        0                 0   \n",
       "1990          0       0           0             0        0                 0   \n",
       "607           0       0           1             0        0                 0   \n",
       "296           0       0           0             0        0                 0   \n",
       "587           0       1           1             0        0                 0   \n",
       "...         ...     ...         ...           ...      ...               ...   \n",
       "4859          0       0           0             0        0                 0   \n",
       "3264          0       1           0             0        0                 0   \n",
       "1653          1       0           0             0        0                 0   \n",
       "2607          0       0           0             0        0                 0   \n",
       "2732          0       1           0             0        0                 0   \n",
       "\n",
       "      ...  pus_filled_pimples  blackheads  scurring  skin_peeling  \\\n",
       "3972  ...                   0           0         0             0   \n",
       "1990  ...                   0           0         0             0   \n",
       "607   ...                   0           0         0             0   \n",
       "296   ...                   0           0         0             0   \n",
       "587   ...                   0           0         0             0   \n",
       "...   ...                 ...         ...       ...           ...   \n",
       "4859  ...                   0           0         0             0   \n",
       "3264  ...                   0           0         0             0   \n",
       "1653  ...                   0           0         0             0   \n",
       "2607  ...                   0           0         0             0   \n",
       "2732  ...                   0           0         0             0   \n",
       "\n",
       "      silver_like_dusting  small_dents_in_nails  inflammatory_nails  blister  \\\n",
       "3972                    0                     0                   0        0   \n",
       "1990                    0                     0                   0        0   \n",
       "607                     0                     0                   0        0   \n",
       "296                     0                     0                   0        0   \n",
       "587                     0                     0                   0        0   \n",
       "...                   ...                   ...                 ...      ...   \n",
       "4859                    0                     0                   0        0   \n",
       "3264                    0                     0                   0        0   \n",
       "1653                    0                     0                   0        0   \n",
       "2607                    0                     0                   0        0   \n",
       "2732                    0                     0                   0        0   \n",
       "\n",
       "      red_sore_around_nose  yellow_crust_ooze  \n",
       "3972                     0                  0  \n",
       "1990                     0                  0  \n",
       "607                      0                  0  \n",
       "296                      0                  0  \n",
       "587                      0                  0  \n",
       "...                    ...                ...  \n",
       "4859                     0                  0  \n",
       "3264                     0                  0  \n",
       "1653                     0                  0  \n",
       "2607                     0                  0  \n",
       "2732                     0                  0  \n",
       "\n",
       "[3444 rows x 132 columns]"
      ]
     },
     "execution_count": 18,
     "metadata": {},
     "output_type": "execute_result"
    }
   ],
   "source": [
    "X_train"
   ]
  },
  {
   "cell_type": "markdown",
   "metadata": {},
   "source": [
    "**Plotting the data which have highly correlated features**"
   ]
  },
  {
   "cell_type": "code",
   "execution_count": null,
   "metadata": {
    "execution": {
     "iopub.execute_input": "2025-02-17T08:27:19.595425Z",
     "iopub.status.busy": "2025-02-17T08:27:19.594289Z",
     "iopub.status.idle": "2025-02-17T08:27:20.733897Z",
     "shell.execute_reply": "2025-02-17T08:27:20.732895Z",
     "shell.execute_reply.started": "2025-02-17T08:27:19.595383Z"
    },
    "trusted": true
   },
   "outputs": [],
   "source": [
    "import seaborn as sns\n",
    "import matplotlib.pyplot as plt\n",
    "\n",
    "#Using Pearson Correlation\n",
    "corrmat = X_train.corr()\n",
    "fig, ax = plt.subplots()\n",
    "fig.set_size_inches(11,11)\n",
    "sns.heatmap(corrmat)"
   ]
  },
  {
   "cell_type": "markdown",
   "metadata": {},
   "source": [
    "**Using Feature Selection Technique**"
   ]
  },
  {
   "cell_type": "code",
   "execution_count": null,
   "metadata": {
    "execution": {
     "iopub.execute_input": "2025-02-17T08:27:26.250262Z",
     "iopub.status.busy": "2025-02-17T08:27:26.249806Z",
     "iopub.status.idle": "2025-02-17T08:27:32.746609Z",
     "shell.execute_reply": "2025-02-17T08:27:32.745645Z",
     "shell.execute_reply.started": "2025-02-17T08:27:26.250219Z"
    },
    "trusted": true
   },
   "outputs": [],
   "source": [
    "from sklearn.feature_selection import mutual_info_classif\n",
    "# determine the mutual information\n",
    "mutual_info = mutual_info_classif(X_train, y_train)\n",
    "mutual_info"
   ]
  },
  {
   "cell_type": "code",
   "execution_count": null,
   "metadata": {
    "execution": {
     "iopub.execute_input": "2025-02-17T08:27:41.981623Z",
     "iopub.status.busy": "2025-02-17T08:27:41.980585Z",
     "iopub.status.idle": "2025-02-17T08:27:41.992423Z",
     "shell.execute_reply": "2025-02-17T08:27:41.991356Z",
     "shell.execute_reply.started": "2025-02-17T08:27:41.981562Z"
    },
    "trusted": true
   },
   "outputs": [],
   "source": [
    "mutual_info = pd.Series(mutual_info)\n",
    "mutual_info.index = X_train.columns\n",
    "mutual_info.sort_values(ascending=False)"
   ]
  },
  {
   "cell_type": "code",
   "execution_count": null,
   "metadata": {
    "execution": {
     "iopub.execute_input": "2025-02-17T08:27:45.675546Z",
     "iopub.status.busy": "2025-02-17T08:27:45.674589Z",
     "iopub.status.idle": "2025-02-17T08:27:46.969188Z",
     "shell.execute_reply": "2025-02-17T08:27:46.968078Z",
     "shell.execute_reply.started": "2025-02-17T08:27:45.675508Z"
    },
    "trusted": true
   },
   "outputs": [],
   "source": [
    "mutual_info.sort_values(ascending=False).plot.bar(figsize=(20, 8))"
   ]
  },
  {
   "cell_type": "code",
   "execution_count": null,
   "metadata": {
    "execution": {
     "iopub.execute_input": "2025-02-17T08:27:54.596037Z",
     "iopub.status.busy": "2025-02-17T08:27:54.595638Z",
     "iopub.status.idle": "2025-02-17T08:28:01.060520Z",
     "shell.execute_reply": "2025-02-17T08:28:01.059528Z",
     "shell.execute_reply.started": "2025-02-17T08:27:54.596003Z"
    },
    "trusted": true
   },
   "outputs": [],
   "source": [
    "import pandas as pd\n",
    "from sklearn.feature_selection import SelectKBest\n",
    "\n",
    "# Fit SelectKBest\n",
    "sel_five_cols = SelectKBest(mutual_info_classif, k=30)\n",
    "sel_five_cols.fit(X_train, y_train)\n",
    "\n",
    "# Get feature scores\n",
    "feature_scores = pd.DataFrame({\n",
    "    'Feature': X_train.columns,\n",
    "    'Score': sel_five_cols.scores_\n",
    "})\n",
    "\n",
    "# Sort by score to see the importance\n",
    "feature_scores = feature_scores.sort_values(by='Score', ascending=False)\n",
    "\n",
    "# Display the top 30 features\n",
    "print(feature_scores.head(30))\n"
   ]
  },
  {
   "cell_type": "code",
   "execution_count": null,
   "metadata": {
    "execution": {
     "iopub.execute_input": "2025-02-17T08:28:03.603619Z",
     "iopub.status.busy": "2025-02-17T08:28:03.602654Z",
     "iopub.status.idle": "2025-02-17T08:28:03.609834Z",
     "shell.execute_reply": "2025-02-17T08:28:03.608813Z",
     "shell.execute_reply.started": "2025-02-17T08:28:03.603581Z"
    },
    "trusted": true
   },
   "outputs": [],
   "source": [
    "selected_features = X_train.columns[sel_five_cols.get_support()]\n",
    "print(f\"Top {len(selected_features)} Selected Features:\")\n",
    "print(selected_features.tolist())\n",
    "assert len(selected_features) == 30, \"The number of selected features is not 25!\"\n"
   ]
  },
  {
   "cell_type": "code",
   "execution_count": null,
   "metadata": {
    "execution": {
     "iopub.execute_input": "2025-02-17T09:08:07.046619Z",
     "iopub.status.busy": "2025-02-17T09:08:07.046256Z",
     "iopub.status.idle": "2025-02-17T09:08:07.060293Z",
     "shell.execute_reply": "2025-02-17T09:08:07.059064Z",
     "shell.execute_reply.started": "2025-02-17T09:08:07.046587Z"
    },
    "trusted": true
   },
   "outputs": [],
   "source": [
    "# Select the top 30 features from training and test sets\n",
    "X_train_selected = X_train.loc[:, sel_five_cols.get_support()]\n",
    "X_test_selected = X_test.loc[:, sel_five_cols.get_support()]\n",
    "X_train_selected = X_train_selected.astype(float)\n",
    "X_test_selected = X_test_selected.astype(float)\n",
    "print(X_train_selected.dtypes)\n",
    "print(X_test_selected.dtypes)\n",
    "\n",
    "\n"
   ]
  },
  {
   "cell_type": "code",
   "execution_count": null,
   "metadata": {
    "execution": {
     "iopub.execute_input": "2025-02-17T08:28:09.330198Z",
     "iopub.status.busy": "2025-02-17T08:28:09.329348Z",
     "iopub.status.idle": "2025-02-17T08:28:09.336237Z",
     "shell.execute_reply": "2025-02-17T08:28:09.335256Z",
     "shell.execute_reply.started": "2025-02-17T08:28:09.330161Z"
    },
    "trusted": true
   },
   "outputs": [],
   "source": [
    "import numpy as np\n",
    "\n",
    "def to_float_numpy(array):\n",
    "    if isinstance(array, np.ndarray):\n",
    "        return array.astype(float)\n",
    "    else:  # pandas DataFrame\n",
    "        return array.to_numpy(dtype=float)\n",
    "\n",
    "X_train_selected = to_float_numpy(X_train_selected)\n",
    "X_test_selected = to_float_numpy(X_test_selected)\n",
    "\n",
    "# No need to call to_numpy() or values again\n",
    "print(type(X_train_selected))  # <class 'numpy.ndarray'>\n",
    "print(X_train_selected.dtype)  # float64 (or float32)\n"
   ]
  },
  {
   "cell_type": "code",
   "execution_count": null,
   "metadata": {
    "execution": {
     "iopub.execute_input": "2025-02-17T09:08:10.840410Z",
     "iopub.status.busy": "2025-02-17T09:08:10.839671Z",
     "iopub.status.idle": "2025-02-17T09:08:33.918954Z",
     "shell.execute_reply": "2025-02-17T09:08:33.917979Z",
     "shell.execute_reply.started": "2025-02-17T09:08:10.840370Z"
    },
    "trusted": true
   },
   "outputs": [],
   "source": [
    "from ydata_profiling import ProfileReport\n",
    "profile = ProfileReport(X_train_selected , title=\"Profiling Report\")\n",
    "profile.to_file(\"Selected_profiling_report.html\")"
   ]
  },
  {
   "cell_type": "code",
   "execution_count": null,
   "metadata": {
    "execution": {
     "iopub.execute_input": "2025-02-17T08:28:13.716640Z",
     "iopub.status.busy": "2025-02-17T08:28:13.716261Z",
     "iopub.status.idle": "2025-02-17T08:28:35.070655Z",
     "shell.execute_reply": "2025-02-17T08:28:35.069026Z",
     "shell.execute_reply.started": "2025-02-17T08:28:13.716605Z"
    },
    "trusted": true
   },
   "outputs": [],
   "source": [
    "from sklearn.datasets import make_classification\n",
    "from sklearn.model_selection import train_test_split\n",
    "from sklearn.svm import SVC\n",
    "from sklearn.ensemble import RandomForestClassifier, GradientBoostingClassifier\n",
    "from sklearn.neighbors import KNeighborsClassifier\n",
    "from sklearn.naive_bayes import MultinomialNB\n",
    "from sklearn.metrics import accuracy_score, confusion_matrix\n",
    "import numpy as np\n",
    "\n",
    "\n",
    "# Create a dictionary to store models\n",
    "models = {\n",
    "    'SVC': SVC(kernel='linear'),\n",
    "    'RandomForest': RandomForestClassifier(n_estimators=100, random_state=42),\n",
    "    'GradientBoosting': GradientBoostingClassifier(n_estimators=100, random_state=42),\n",
    "    'KNeighbors': KNeighborsClassifier(n_neighbors=5),\n",
    "    'MultinomialNB': MultinomialNB()\n",
    "}\n",
    "\n",
    "for model_name, model in models.items():\n",
    "    # Train the model\n",
    "    model.fit(X_train_selected, y_train)\n",
    "\n",
    "    # Test the model\n",
    "    predictions = model.predict(X_test_selected)\n",
    "\n",
    "    # Calculate accuracy\n",
    "    accuracy = accuracy_score(y_test, predictions)\n",
    "    print(f\"{model_name} Accuracy: {accuracy}\")\n",
    "\n",
    "    # Calculate confusion matrix\n",
    "    cm = confusion_matrix(y_test, predictions)\n",
    "    print(f\"{model_name} Confusion Matrix:\")\n",
    "    print(np.array2string(cm, separator=', '))\n",
    "\n",
    "    print(\"\\n\" + \"=\"*40 + \"\\n\")\n"
   ]
  },
  {
   "cell_type": "code",
   "execution_count": 18,
   "metadata": {
    "execution": {
     "iopub.execute_input": "2025-02-17T08:28:41.278206Z",
     "iopub.status.busy": "2025-02-17T08:28:41.277812Z",
     "iopub.status.idle": "2025-02-17T08:28:41.745337Z",
     "shell.execute_reply": "2025-02-17T08:28:41.744535Z",
     "shell.execute_reply.started": "2025-02-17T08:28:41.278172Z"
    },
    "trusted": true
   },
   "outputs": [],
   "source": [
    "rf = RandomForestClassifier(n_estimators=100, random_state=42)\n",
    "rf.fit(X_train,y_train)\n",
    "ypred = rf.predict(X_test)\n",
    "test_accuracy = accuracy_score(y_test,ypred)"
   ]
  },
  {
   "cell_type": "code",
   "execution_count": null,
   "metadata": {
    "execution": {
     "iopub.execute_input": "2025-02-17T08:28:43.135522Z",
     "iopub.status.busy": "2025-02-17T08:28:43.135151Z",
     "iopub.status.idle": "2025-02-17T08:28:43.253101Z",
     "shell.execute_reply": "2025-02-17T08:28:43.252182Z",
     "shell.execute_reply.started": "2025-02-17T08:28:43.135488Z"
    },
    "trusted": true
   },
   "outputs": [],
   "source": [
    "train_pred = rf.predict(X_train)\n",
    "train_accuracy = accuracy_score(y_train, train_pred)\n",
    "train_accuracy\n",
    "if train_accuracy - test_accuracy > 0.1:  # 10% gap threshold\n",
    "    print(\"The model is likely overfitting.\")\n",
    "else:\n",
    "    print(\"The model generalizes well.\")"
   ]
  },
  {
   "cell_type": "code",
   "execution_count": null,
   "metadata": {
    "execution": {
     "iopub.execute_input": "2025-02-17T08:28:45.480557Z",
     "iopub.status.busy": "2025-02-17T08:28:45.479642Z",
     "iopub.status.idle": "2025-02-17T08:28:45.501586Z",
     "shell.execute_reply": "2025-02-17T08:28:45.500679Z",
     "shell.execute_reply.started": "2025-02-17T08:28:45.480518Z"
    },
    "trusted": true
   },
   "outputs": [],
   "source": [
    "confusion_matrix(y_train,train_pred)"
   ]
  },
  {
   "cell_type": "code",
   "execution_count": null,
   "metadata": {
    "execution": {
     "iopub.execute_input": "2025-02-17T08:32:09.707000Z",
     "iopub.status.busy": "2025-02-17T08:32:09.706235Z",
     "iopub.status.idle": "2025-02-17T08:32:09.727831Z",
     "shell.execute_reply": "2025-02-17T08:32:09.726846Z",
     "shell.execute_reply.started": "2025-02-17T08:32:09.706961Z"
    },
    "trusted": true
   },
   "outputs": [],
   "source": [
    "import pickle\n",
    "\n",
    "with open('rf_model.pkl', 'wb') as f:\n",
    "    pickle.dump(rf, f)\n",
    "\n",
    "print(\"RandomForest model saved as 'rf_model.pkl'\")\n"
   ]
  },
  {
   "cell_type": "code",
   "execution_count": 24,
   "metadata": {
    "execution": {
     "iopub.execute_input": "2025-02-17T08:45:07.369972Z",
     "iopub.status.busy": "2025-02-17T08:45:07.369145Z",
     "iopub.status.idle": "2025-02-17T08:45:07.391026Z",
     "shell.execute_reply": "2025-02-17T08:45:07.389921Z",
     "shell.execute_reply.started": "2025-02-17T08:45:07.369931Z"
    },
    "trusted": true
   },
   "outputs": [],
   "source": [
    " # load model\n",
    "rf = pickle.load(open('rf.pkl','rb'))"
   ]
  },
  {
   "cell_type": "code",
   "execution_count": null,
   "metadata": {
    "execution": {
     "iopub.execute_input": "2025-02-17T08:45:08.475016Z",
     "iopub.status.busy": "2025-02-17T08:45:08.474611Z",
     "iopub.status.idle": "2025-02-17T08:45:08.480708Z",
     "shell.execute_reply": "2025-02-17T08:45:08.479687Z",
     "shell.execute_reply.started": "2025-02-17T08:45:08.474979Z"
    },
    "trusted": true
   },
   "outputs": [],
   "source": [
    "y_test = y_test.reset_index(drop=True)\n",
    "print(\"Actual Disease :\", y_test[0])\n"
   ]
  },
  {
   "cell_type": "code",
   "execution_count": null,
   "metadata": {
    "execution": {
     "iopub.execute_input": "2025-02-17T08:45:10.963841Z",
     "iopub.status.busy": "2025-02-17T08:45:10.963434Z",
     "iopub.status.idle": "2025-02-17T08:45:10.977786Z",
     "shell.execute_reply": "2025-02-17T08:45:10.976772Z",
     "shell.execute_reply.started": "2025-02-17T08:45:10.963806Z"
    },
    "trusted": true
   },
   "outputs": [],
   "source": [
    "# test 1:\n",
    "print(\"predicted disease :\",rf.predict(X_test.iloc[0].values.reshape(1,-1)))\n",
    "print(\"Actual Disease :\", y_test[0])"
   ]
  },
  {
   "cell_type": "code",
   "execution_count": null,
   "metadata": {
    "execution": {
     "iopub.execute_input": "2025-02-17T08:45:12.214496Z",
     "iopub.status.busy": "2025-02-17T08:45:12.214162Z",
     "iopub.status.idle": "2025-02-17T08:45:12.233117Z",
     "shell.execute_reply": "2025-02-17T08:45:12.231811Z",
     "shell.execute_reply.started": "2025-02-17T08:45:12.214466Z"
    },
    "trusted": true
   },
   "outputs": [],
   "source": [
    "# test 2:\n",
    "print(\"predicted disease :\",rf.predict(X_test.iloc[100].values.reshape(1,-1)))\n",
    "print(\"Actual Disease :\", y_test[100])"
   ]
  },
  {
   "cell_type": "code",
   "execution_count": 30,
   "metadata": {
    "execution": {
     "iopub.execute_input": "2025-02-17T08:45:21.001932Z",
     "iopub.status.busy": "2025-02-17T08:45:21.001198Z",
     "iopub.status.idle": "2025-02-17T08:45:21.025276Z",
     "shell.execute_reply": "2025-02-17T08:45:21.024384Z",
     "shell.execute_reply.started": "2025-02-17T08:45:21.001893Z"
    },
    "trusted": true
   },
   "outputs": [],
   "source": [
    "sym_des = pd.read_csv('/kaggle/input/symtoms_df.csv')\n",
    "precautions = pd.read_csv('/kaggle/input/precautions_df.csv')\n",
    "workout = pd.read_csv('/kaggle/input/workout_df.csv')\n",
    "description = pd.read_csv('/kaggle/input/description.csv')\n",
    "medications = pd.read_csv('/kaggle/input/medications.csv')\n",
    "diets = pd.read_csv('/kaggle/input/diets.csv')\n"
   ]
  },
  {
   "cell_type": "code",
   "execution_count": 31,
   "metadata": {
    "execution": {
     "iopub.execute_input": "2025-02-17T08:45:22.227941Z",
     "iopub.status.busy": "2025-02-17T08:45:22.226902Z",
     "iopub.status.idle": "2025-02-17T08:45:22.244405Z",
     "shell.execute_reply": "2025-02-17T08:45:22.243248Z",
     "shell.execute_reply.started": "2025-02-17T08:45:22.227902Z"
    },
    "trusted": true
   },
   "outputs": [],
   "source": [
    "def helper(dis):\n",
    "    desc = description[description['Disease'] == predicted_disease]['Description']\n",
    "    desc = \" \".join([w for w in desc])\n",
    "\n",
    "    pre = precautions[precautions['Disease'] == dis][['Precaution_1', 'Precaution_2', 'Precaution_3', 'Precaution_4']]\n",
    "    pre = [col for col in pre.values]\n",
    "\n",
    "    med = medications[medications['Disease'] == dis]['Medication']\n",
    "    med = [med for med in med.values]\n",
    "\n",
    "    die = diets[diets['Disease'] == dis]['Diet']\n",
    "    die = [die for die in die.values]\n",
    "\n",
    "    wrkout = workout[workout['disease'] == dis] ['workout']\n",
    "\n",
    "\n",
    "    return desc,pre,med,die,wrkout\n",
    "\n",
    "symptoms_dict = {'itching': 0, 'skin_rash': 1, 'nodal_skin_eruptions': 2, 'continuous_sneezing': 3, 'shivering': 4, 'chills': 5, 'joint_pain': 6, 'stomach_pain': 7, 'acidity': 8, 'ulcers_on_tongue': 9, 'muscle_wasting': 10, 'vomiting': 11, 'burning_micturition': 12, 'spotting_ urination': 13, 'fatigue': 14, 'weight_gain': 15, 'anxiety': 16, 'cold_hands_and_feets': 17, 'mood_swings': 18, 'weight_loss': 19, 'restlessness': 20, 'lethargy': 21, 'patches_in_throat': 22, 'irregular_sugar_level': 23, 'cough': 24, 'high_fever': 25, 'sunken_eyes': 26, 'breathlessness': 27, 'sweating': 28, 'dehydration': 29, 'indigestion': 30, 'headache': 31, 'yellowish_skin': 32, 'dark_urine': 33, 'nausea': 34, 'loss_of_appetite': 35, 'pain_behind_the_eyes': 36, 'back_pain': 37, 'constipation': 38, 'abdominal_pain': 39, 'diarrhoea': 40, 'mild_fever': 41, 'yellow_urine': 42, 'yellowing_of_eyes': 43, 'acute_liver_failure': 44, 'fluid_overload': 45, 'swelling_of_stomach': 46, 'swelled_lymph_nodes': 47, 'malaise': 48, 'blurred_and_distorted_vision': 49, 'phlegm': 50, 'throat_irritation': 51, 'redness_of_eyes': 52, 'sinus_pressure': 53, 'runny_nose': 54, 'congestion': 55, 'chest_pain': 56, 'weakness_in_limbs': 57, 'fast_heart_rate': 58, 'pain_during_bowel_movements': 59, 'pain_in_anal_region': 60, 'bloody_stool': 61, 'irritation_in_anus': 62, 'neck_pain': 63, 'dizziness': 64, 'cramps': 65, 'bruising': 66, 'obesity': 67, 'swollen_legs': 68, 'swollen_blood_vessels': 69, 'puffy_face_and_eyes': 70, 'enlarged_thyroid': 71, 'brittle_nails': 72, 'swollen_extremeties': 73, 'excessive_hunger': 74, 'extra_marital_contacts': 75, 'drying_and_tingling_lips': 76, 'slurred_speech': 77, 'knee_pain': 78, 'hip_joint_pain': 79, 'muscle_weakness': 80, 'stiff_neck': 81, 'swelling_joints': 82, 'movement_stiffness': 83, 'spinning_movements': 84, 'loss_of_balance': 85, 'unsteadiness': 86, 'weakness_of_one_body_side': 87, 'loss_of_smell': 88, 'bladder_discomfort': 89, 'foul_smell_of urine': 90, 'continuous_feel_of_urine': 91, 'passage_of_gases': 92, 'internal_itching': 93, 'toxic_look_(typhos)': 94, 'depression': 95, 'irritability': 96, 'muscle_pain': 97, 'altered_sensorium': 98, 'red_spots_over_body': 99, 'belly_pain': 100, 'abnormal_menstruation': 101, 'dischromic _patches': 102, 'watering_from_eyes': 103, 'increased_appetite': 104, 'polyuria': 105, 'family_history': 106, 'mucoid_sputum': 107, 'rusty_sputum': 108, 'lack_of_concentration': 109, 'visual_disturbances': 110, 'receiving_blood_transfusion': 111, 'receiving_unsterile_injections': 112, 'coma': 113, 'stomach_bleeding': 114, 'distention_of_abdomen': 115, 'history_of_alcohol_consumption': 116, 'fluid_overload.1': 117, 'blood_in_sputum': 118, 'prominent_veins_on_calf': 119, 'palpitations': 120, 'painful_walking': 121, 'pus_filled_pimples': 122, 'blackheads': 123, 'scurring': 124, 'skin_peeling': 125, 'silver_like_dusting': 126, 'small_dents_in_nails': 127, 'inflammatory_nails': 128, 'blister': 129, 'red_sore_around_nose': 130, 'yellow_crust_ooze': 131}\n",
    "diseases_list = {15: 'Fungal infection', 4: 'Allergy', 16: 'GERD', 9: 'Chronic cholestasis', 14: 'Drug Reaction', 33: 'Peptic ulcer diseae', 1: 'AIDS', 12: 'Diabetes ', 17: 'Gastroenteritis', 6: 'Bronchial Asthma', 23: 'Hypertension ', 30: 'Migraine', 7: 'Cervical spondylosis', 32: 'Paralysis (brain hemorrhage)', 28: 'Jaundice', 29: 'Malaria', 8: 'Chicken pox', 11: 'Dengue', 37: 'Typhoid', 40: 'hepatitis A', 19: 'Hepatitis B', 20: 'Hepatitis C', 21: 'Hepatitis D', 22: 'Hepatitis E', 3: 'Alcoholic hepatitis', 36: 'Tuberculosis', 10: 'Common Cold', 34: 'Pneumonia', 13: 'Dimorphic hemmorhoids(piles)', 18: 'Heart attack', 39: 'Varicose veins', 26: 'Hypothyroidism', 24: 'Hyperthyroidism', 25: 'Hypoglycemia', 31: 'Osteoarthristis', 5: 'Arthritis', 0: '(vertigo) Paroymsal  Positional Vertigo', 2: 'Acne', 38: 'Urinary tract infection', 35: 'Psoriasis', 27: 'Impetigo'}\n",
    "def get_predicted_value(patient_symptoms):\n",
    "    input_vector = np.zeros(len(symptoms_dict))\n",
    "    for item in patient_symptoms:\n",
    "        input_vector[symptoms_dict[item]] = 1\n",
    "    return diseases_list[svc.predict([input_vector])[0]]"
   ]
  },
  {
   "cell_type": "code",
   "execution_count": null,
   "metadata": {
    "execution": {
     "iopub.execute_input": "2025-02-17T08:45:46.560920Z",
     "iopub.status.busy": "2025-02-17T08:45:46.560532Z",
     "iopub.status.idle": "2025-02-17T08:46:08.176044Z",
     "shell.execute_reply": "2025-02-17T08:46:08.174984Z",
     "shell.execute_reply.started": "2025-02-17T08:45:46.560887Z"
    },
    "trusted": true
   },
   "outputs": [],
   "source": [
    "import numpy as np\n",
    "import pandas as pd\n",
    "\n",
    "# Assuming symptoms_dict and diseases_list are defined like this:\n",
    "# symptoms_dict = {'itching': 0, 'skin_rash': 1, 'dark_urine': 2, ...}\n",
    "# diseases_list = ['Disease1', 'Disease2', 'Disease3', ...]\n",
    "\n",
    "# Replace this with your actual trained classifier\n",
    "# svc = RandomForestClassifier() or your trained model\n",
    "\n",
    "# Function to get the predicted value\n",
    "def get_predicted_value(patient_symptoms):\n",
    "    input_vector = [0] * len(symptoms_dict)\n",
    "    \n",
    "    for item in patient_symptoms:\n",
    "        if item in symptoms_dict:\n",
    "            input_vector[symptoms_dict[item]] = 1\n",
    "        else:\n",
    "            print(f\"Warning: Symptom '{item}' not recognized!\")\n",
    "    \n",
    "    input_vector = np.array(input_vector).reshape(1, -1)\n",
    "    \n",
    "    predicted_index = rf.predict(input_vector)[0]\n",
    "    \n",
    "    if isinstance(predicted_index, int):\n",
    "        return diseases_list[predicted_index]\n",
    "    else:\n",
    "        return predicted_index\n",
    "\n",
    "# User input\n",
    "symptoms = input(\"Enter your symptoms (comma-separated): \")\n",
    "user_symptoms = [s.strip() for s in symptoms.split(',')]\n",
    "\n",
    "# Predict the disease\n",
    "predicted_disease = get_predicted_value(user_symptoms)\n",
    "\n",
    "# Fetch additional details using the helper function\n",
    "desc, pre, med, die, wrkout = helper(predicted_disease)\n",
    "\n",
    "# Display Results\n",
    "print(\"=================predicted disease============\")\n",
    "print(predicted_disease)\n",
    "print(\"=================description==================\")\n",
    "print(desc)\n",
    "\n",
    "print(\"=================precautions==================\")\n",
    "for i, p in enumerate(pre[0], start=1):\n",
    "    print(f\"{i}: {p}\")\n",
    "\n",
    "print(\"=================medications==================\")\n",
    "for i, m in enumerate(med, start=1):\n",
    "    print(f\"{i}: {m}\")\n",
    "\n",
    "print(\"=================workout==================\")\n",
    "for i, w in enumerate(wrkout, start=1):\n",
    "    print(f\"{i}: {w}\")\n",
    "\n",
    "print(\"=================diets==================\")\n",
    "for i, d in enumerate(die, start=1):\n",
    "    print(f\"{i}: {d}\")\n"
   ]
  },
  {
   "cell_type": "code",
   "execution_count": null,
   "metadata": {
    "execution": {
     "iopub.execute_input": "2025-02-16T10:08:38.746769Z",
     "iopub.status.busy": "2025-02-16T10:08:38.745615Z",
     "iopub.status.idle": "2025-02-16T10:08:38.753032Z",
     "shell.execute_reply": "2025-02-16T10:08:38.751687Z",
     "shell.execute_reply.started": "2025-02-16T10:08:38.746700Z"
    },
    "trusted": true
   },
   "outputs": [],
   "source": [
    "print(selected_features.tolist())"
   ]
  },
  {
   "cell_type": "code",
   "execution_count": null,
   "metadata": {
    "trusted": true
   },
   "outputs": [],
   "source": []
  }
 ],
 "metadata": {
  "kaggle": {
   "accelerator": "none",
   "dataSources": [
    {
     "datasetId": 4286222,
     "sourceId": 7376281,
     "sourceType": "datasetVersion"
    }
   ],
   "dockerImageVersionId": 30804,
   "isGpuEnabled": false,
   "isInternetEnabled": true,
   "language": "python",
   "sourceType": "notebook"
  },
  "kernelspec": {
   "display_name": "Python 3",
   "language": "python",
   "name": "python3"
  },
  "language_info": {
   "codemirror_mode": {
    "name": "ipython",
    "version": 3
   },
   "file_extension": ".py",
   "mimetype": "text/x-python",
   "name": "python",
   "nbconvert_exporter": "python",
   "pygments_lexer": "ipython3",
   "version": "3.10.14"
  }
 },
 "nbformat": 4,
 "nbformat_minor": 4
}
